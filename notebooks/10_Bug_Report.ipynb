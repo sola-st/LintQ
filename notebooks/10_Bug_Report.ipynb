{
 "cells": [
  {
   "attachments": {},
   "cell_type": "markdown",
   "metadata": {},
   "source": [
    "**Goal**: Prioritize the bug reports and test them here. \n",
    "\n",
    "# Bug Reports"
   ]
  },
  {
   "cell_type": "code",
   "execution_count": 1,
   "metadata": {},
   "outputs": [],
   "source": [
    "import project_path\n",
    "from rdlib import *  # this imports the base libraries"
   ]
  },
  {
   "cell_type": "code",
   "execution_count": 2,
   "metadata": {},
   "outputs": [],
   "source": [
    "# METADATA\n",
    "PATH_METADATA_DATASET = '../data/datasets/exp_v08/df_summary.csv'\n",
    "# PRIORITIZATION INFOS\n",
    "PATH_REPO_LAST_COMMIT = '../data/github_repo_infos/exp_v08/latest_commit_date.db'\n",
    "# WARNINGS\n",
    "#PATH_WARNINGS_SARIF = '../data/analysis_results/exp_v08/codeql_2023-03-13_13-54-00/data.sarif'  # No qubit abstraction\n",
    "PATH_WARNINGS_SARIF = '../data/analysis_results/exp_v08/codeql_2023-03-17_19-08-02/data.sarif'  # With qubit abstraction"
   ]
  },
  {
   "cell_type": "code",
   "execution_count": 3,
   "metadata": {},
   "outputs": [
    {
     "name": "stdout",
     "output_type": "stream",
     "text": [
      "(72760, 3)\n"
     ]
    },
    {
     "data": {
      "text/html": [
       "<div>\n",
       "<style scoped>\n",
       "    .dataframe tbody tr th:only-of-type {\n",
       "        vertical-align: middle;\n",
       "    }\n",
       "\n",
       "    .dataframe tbody tr th {\n",
       "        vertical-align: top;\n",
       "    }\n",
       "\n",
       "    .dataframe thead th {\n",
       "        text-align: right;\n",
       "    }\n",
       "</style>\n",
       "<table border=\"1\" class=\"dataframe\">\n",
       "  <thead>\n",
       "    <tr style=\"text-align: right;\">\n",
       "      <th></th>\n",
       "      <th>repository_name</th>\n",
       "      <th>date_str</th>\n",
       "      <th>timestamp</th>\n",
       "    </tr>\n",
       "  </thead>\n",
       "  <tbody>\n",
       "    <tr>\n",
       "      <th>0</th>\n",
       "      <td>sethuquantum/LearnQuantum</td>\n",
       "      <td>2022-11-24 23:49:15</td>\n",
       "      <td>1.669330e+09</td>\n",
       "    </tr>\n",
       "    <tr>\n",
       "      <th>1</th>\n",
       "      <td>QRussia/basics-of-quantum-computing-translate</td>\n",
       "      <td>2021-07-23 01:33:13</td>\n",
       "      <td>1.626997e+09</td>\n",
       "    </tr>\n",
       "    <tr>\n",
       "      <th>2</th>\n",
       "      <td>roytu/QOSF-FeMoco2020</td>\n",
       "      <td>2021-01-24 14:59:31</td>\n",
       "      <td>1.611497e+09</td>\n",
       "    </tr>\n",
       "    <tr>\n",
       "      <th>3</th>\n",
       "      <td>Abdoelabassi/Qbronze</td>\n",
       "      <td>2022-04-30 12:17:04</td>\n",
       "      <td>1.651314e+09</td>\n",
       "    </tr>\n",
       "    <tr>\n",
       "      <th>4</th>\n",
       "      <td>904194705/Qiskit-RIKEN-project-</td>\n",
       "      <td>2019-07-08 01:48:59</td>\n",
       "      <td>1.562543e+09</td>\n",
       "    </tr>\n",
       "  </tbody>\n",
       "</table>\n",
       "</div>"
      ],
      "text/plain": [
       "                                 repository_name             date_str  \\\n",
       "0                      sethuquantum/LearnQuantum  2022-11-24 23:49:15   \n",
       "1  QRussia/basics-of-quantum-computing-translate  2021-07-23 01:33:13   \n",
       "2                          roytu/QOSF-FeMoco2020  2021-01-24 14:59:31   \n",
       "3                           Abdoelabassi/Qbronze  2022-04-30 12:17:04   \n",
       "4                904194705/Qiskit-RIKEN-project-  2019-07-08 01:48:59   \n",
       "\n",
       "      timestamp  \n",
       "0  1.669330e+09  \n",
       "1  1.626997e+09  \n",
       "2  1.611497e+09  \n",
       "3  1.651314e+09  \n",
       "4  1.562543e+09  "
      ]
     },
     "execution_count": 3,
     "metadata": {},
     "output_type": "execute_result"
    }
   ],
   "source": [
    "# repos data\n",
    "import sqlite3\n",
    "conn = sqlite3.connect(PATH_REPO_LAST_COMMIT)\n",
    "df_repo_info = pd.read_sql_query(\"SELECT * FROM commits\", conn)\n",
    "# rename columns: repo -> repository_name\n",
    "df_repo_info = df_repo_info.rename(columns={'repo': 'repository_name'})\n",
    "conn.close()\n",
    "print(df_repo_info.shape)\n",
    "df_repo_info.head()"
   ]
  },
  {
   "cell_type": "code",
   "execution_count": 4,
   "metadata": {},
   "outputs": [
    {
     "name": "stdout",
     "output_type": "stream",
     "text": [
      "Writing CSV summary for data.sarif to data.csv\n"
     ]
    },
    {
     "data": {
      "text/html": [
       "<div>\n",
       "<style scoped>\n",
       "    .dataframe tbody tr th:only-of-type {\n",
       "        vertical-align: middle;\n",
       "    }\n",
       "\n",
       "    .dataframe tbody tr th {\n",
       "        vertical-align: top;\n",
       "    }\n",
       "\n",
       "    .dataframe thead th {\n",
       "        text-align: right;\n",
       "    }\n",
       "</style>\n",
       "<table border=\"1\" class=\"dataframe\">\n",
       "  <thead>\n",
       "    <tr style=\"text-align: right;\">\n",
       "      <th></th>\n",
       "      <th>Tool</th>\n",
       "      <th>Severity</th>\n",
       "      <th>Code</th>\n",
       "      <th>Location</th>\n",
       "      <th>Line</th>\n",
       "      <th>rule</th>\n",
       "      <th>unique_id</th>\n",
       "    </tr>\n",
       "  </thead>\n",
       "  <tbody>\n",
       "    <tr>\n",
       "      <th>0</th>\n",
       "      <td>CodeQL</td>\n",
       "      <td>warning</td>\n",
       "      <td>ql-double-measurement Two consecutive measurem...</td>\n",
       "      <td>example_d675c9.py</td>\n",
       "      <td>11</td>\n",
       "      <td>ql-double-measurement</td>\n",
       "      <td>example_d675c9</td>\n",
       "    </tr>\n",
       "    <tr>\n",
       "      <th>1</th>\n",
       "      <td>CodeQL</td>\n",
       "      <td>warning</td>\n",
       "      <td>ql-double-measurement Two consecutive measurem...</td>\n",
       "      <td>example_d675c9.py</td>\n",
       "      <td>12</td>\n",
       "      <td>ql-double-measurement</td>\n",
       "      <td>example_d675c9</td>\n",
       "    </tr>\n",
       "    <tr>\n",
       "      <th>2</th>\n",
       "      <td>CodeQL</td>\n",
       "      <td>warning</td>\n",
       "      <td>ql-double-measurement Two consecutive measurem...</td>\n",
       "      <td>02_measurements_and_mixed_states_qiskit_ee25f6.py</td>\n",
       "      <td>108</td>\n",
       "      <td>ql-double-measurement</td>\n",
       "      <td>02_measurements_and_mixed_states_qiskit_ee25f6</td>\n",
       "    </tr>\n",
       "    <tr>\n",
       "      <th>3</th>\n",
       "      <td>CodeQL</td>\n",
       "      <td>warning</td>\n",
       "      <td>ql-double-measurement Two consecutive measurem...</td>\n",
       "      <td>qubitstates_903372.py</td>\n",
       "      <td>12</td>\n",
       "      <td>ql-double-measurement</td>\n",
       "      <td>qubitstates_903372</td>\n",
       "    </tr>\n",
       "    <tr>\n",
       "      <th>4</th>\n",
       "      <td>CodeQL</td>\n",
       "      <td>warning</td>\n",
       "      <td>ql-double-measurement Two consecutive measurem...</td>\n",
       "      <td>computaci_c3_b3n_cu_c3_a1ntica_pr_c3_a1ctica_c...</td>\n",
       "      <td>123</td>\n",
       "      <td>ql-double-measurement</td>\n",
       "      <td>computaci_c3_b3n_cu_c3_a1ntica_pr_c3_a1ctica_c...</td>\n",
       "    </tr>\n",
       "  </tbody>\n",
       "</table>\n",
       "</div>"
      ],
      "text/plain": [
       "     Tool Severity                                               Code  \\\n",
       "0  CodeQL  warning  ql-double-measurement Two consecutive measurem...   \n",
       "1  CodeQL  warning  ql-double-measurement Two consecutive measurem...   \n",
       "2  CodeQL  warning  ql-double-measurement Two consecutive measurem...   \n",
       "3  CodeQL  warning  ql-double-measurement Two consecutive measurem...   \n",
       "4  CodeQL  warning  ql-double-measurement Two consecutive measurem...   \n",
       "\n",
       "                                            Location  Line  \\\n",
       "0                                  example_d675c9.py    11   \n",
       "1                                  example_d675c9.py    12   \n",
       "2  02_measurements_and_mixed_states_qiskit_ee25f6.py   108   \n",
       "3                              qubitstates_903372.py    12   \n",
       "4  computaci_c3_b3n_cu_c3_a1ntica_pr_c3_a1ctica_c...   123   \n",
       "\n",
       "                    rule                                          unique_id  \n",
       "0  ql-double-measurement                                     example_d675c9  \n",
       "1  ql-double-measurement                                     example_d675c9  \n",
       "2  ql-double-measurement     02_measurements_and_mixed_states_qiskit_ee25f6  \n",
       "3  ql-double-measurement                                 qubitstates_903372  \n",
       "4  ql-double-measurement  computaci_c3_b3n_cu_c3_a1ntica_pr_c3_a1ctica_c...  "
      ]
     },
     "execution_count": 4,
     "metadata": {},
     "output_type": "execute_result"
    }
   ],
   "source": [
    "# warnings data\n",
    "PATH_WARNINGS_CSV_NEW = PATH_WARNINGS_SARIF.replace(\".sarif\", \".csv\")\n",
    "! sarif csv --output {PATH_WARNINGS_CSV_NEW} {PATH_WARNINGS_SARIF}\n",
    "df_warnings = pd.read_csv(PATH_WARNINGS_CSV_NEW)\n",
    "df_warnings['rule'] = df_warnings['Code'].apply(lambda e: e.split(\" \")[0])\n",
    "df_warnings['unique_id'] = df_warnings['Location'].apply(lambda e: e.split(\".\")[0])\n",
    "df_warnings.head()"
   ]
  },
  {
   "cell_type": "code",
   "execution_count": 5,
   "metadata": {},
   "outputs": [
    {
     "name": "stdout",
     "output_type": "stream",
     "text": [
      "Index(['download_url', 'html_url', 'name', 'path', 'repository_description',\n",
      "       'repository_fork', 'repository_name', 'repository_owner_url',\n",
      "       'repository_url', 'score', 'filename', 'extension', 'filestem', 'hash',\n",
      "       'unique_id'],\n",
      "      dtype='object')\n"
     ]
    },
    {
     "data": {
      "text/html": [
       "<div>\n",
       "<style scoped>\n",
       "    .dataframe tbody tr th:only-of-type {\n",
       "        vertical-align: middle;\n",
       "    }\n",
       "\n",
       "    .dataframe tbody tr th {\n",
       "        vertical-align: top;\n",
       "    }\n",
       "\n",
       "    .dataframe thead th {\n",
       "        text-align: right;\n",
       "    }\n",
       "</style>\n",
       "<table border=\"1\" class=\"dataframe\">\n",
       "  <thead>\n",
       "    <tr style=\"text-align: right;\">\n",
       "      <th></th>\n",
       "      <th>unique_id</th>\n",
       "      <th>extension</th>\n",
       "      <th>repository_name</th>\n",
       "    </tr>\n",
       "  </thead>\n",
       "  <tbody>\n",
       "    <tr>\n",
       "      <th>0</th>\n",
       "      <td>test_sabre_swap_95cbde</td>\n",
       "      <td>py</td>\n",
       "      <td>sethuquantum/LearnQuantum</td>\n",
       "    </tr>\n",
       "    <tr>\n",
       "      <th>1</th>\n",
       "      <td>B01_Qiskit_Reference-checkpoint_9b754a</td>\n",
       "      <td>ipynb</td>\n",
       "      <td>QRussia/basics-of-quantum-computing-translate</td>\n",
       "    </tr>\n",
       "    <tr>\n",
       "      <th>2</th>\n",
       "      <td>quantum_generator_d6f5f2</td>\n",
       "      <td>py</td>\n",
       "      <td>roytu/QOSF-FeMoco2020</td>\n",
       "    </tr>\n",
       "    <tr>\n",
       "      <th>3</th>\n",
       "      <td>B01_Qiskit_Reference_c78ae2</td>\n",
       "      <td>ipynb</td>\n",
       "      <td>Abdoelabassi/Qbronze</td>\n",
       "    </tr>\n",
       "    <tr>\n",
       "      <th>4</th>\n",
       "      <td>pulse_instruction_f43374</td>\n",
       "      <td>py</td>\n",
       "      <td>904194705/Qiskit-RIKEN-project-</td>\n",
       "    </tr>\n",
       "  </tbody>\n",
       "</table>\n",
       "</div>"
      ],
      "text/plain": [
       "                                unique_id extension  \\\n",
       "0                  test_sabre_swap_95cbde        py   \n",
       "1  B01_Qiskit_Reference-checkpoint_9b754a     ipynb   \n",
       "2                quantum_generator_d6f5f2        py   \n",
       "3             B01_Qiskit_Reference_c78ae2     ipynb   \n",
       "4                pulse_instruction_f43374        py   \n",
       "\n",
       "                                 repository_name  \n",
       "0                      sethuquantum/LearnQuantum  \n",
       "1  QRussia/basics-of-quantum-computing-translate  \n",
       "2                          roytu/QOSF-FeMoco2020  \n",
       "3                           Abdoelabassi/Qbronze  \n",
       "4                904194705/Qiskit-RIKEN-project-  "
      ]
     },
     "execution_count": 5,
     "metadata": {},
     "output_type": "execute_result"
    }
   ],
   "source": [
    "# METDATA\n",
    "df_metadata = pd.read_csv(PATH_METADATA_DATASET)\n",
    "print(df_metadata.columns)\n",
    "df_metadata['unique_id'] = df_metadata.apply(\n",
    "    lambda row: str(row['filestem']) + \"_\" + str(row['hash']),\n",
    "    axis=1\n",
    ")\n",
    "df_metadata = df_metadata[['unique_id', 'extension', 'repository_name']]\n",
    "df_metadata.head()"
   ]
  },
  {
   "cell_type": "code",
   "execution_count": 6,
   "metadata": {},
   "outputs": [
    {
     "data": {
      "text/html": [
       "<div>\n",
       "<style scoped>\n",
       "    .dataframe tbody tr th:only-of-type {\n",
       "        vertical-align: middle;\n",
       "    }\n",
       "\n",
       "    .dataframe tbody tr th {\n",
       "        vertical-align: top;\n",
       "    }\n",
       "\n",
       "    .dataframe thead th {\n",
       "        text-align: right;\n",
       "    }\n",
       "</style>\n",
       "<table border=\"1\" class=\"dataframe\">\n",
       "  <thead>\n",
       "    <tr style=\"text-align: right;\">\n",
       "      <th></th>\n",
       "      <th>Tool</th>\n",
       "      <th>Severity</th>\n",
       "      <th>Code</th>\n",
       "      <th>Location</th>\n",
       "      <th>Line</th>\n",
       "      <th>rule</th>\n",
       "      <th>unique_id</th>\n",
       "      <th>extension</th>\n",
       "      <th>repository_name</th>\n",
       "      <th>date_str</th>\n",
       "      <th>timestamp</th>\n",
       "    </tr>\n",
       "  </thead>\n",
       "  <tbody>\n",
       "    <tr>\n",
       "      <th>0</th>\n",
       "      <td>CodeQL</td>\n",
       "      <td>warning</td>\n",
       "      <td>ql-double-measurement Two consecutive measurem...</td>\n",
       "      <td>example_d675c9.py</td>\n",
       "      <td>11</td>\n",
       "      <td>ql-double-measurement</td>\n",
       "      <td>example_d675c9</td>\n",
       "      <td>py</td>\n",
       "      <td>MichalReznak/quep</td>\n",
       "      <td>2022-08-15 22:36:09</td>\n",
       "      <td>1.660596e+09</td>\n",
       "    </tr>\n",
       "    <tr>\n",
       "      <th>1</th>\n",
       "      <td>CodeQL</td>\n",
       "      <td>warning</td>\n",
       "      <td>ql-double-measurement Two consecutive measurem...</td>\n",
       "      <td>example_d675c9.py</td>\n",
       "      <td>11</td>\n",
       "      <td>ql-double-measurement</td>\n",
       "      <td>example_d675c9</td>\n",
       "      <td>py</td>\n",
       "      <td>MichalReznak/quep</td>\n",
       "      <td>2022-08-15 22:36:09</td>\n",
       "      <td>1.660596e+09</td>\n",
       "    </tr>\n",
       "    <tr>\n",
       "      <th>2</th>\n",
       "      <td>CodeQL</td>\n",
       "      <td>warning</td>\n",
       "      <td>ql-double-measurement Two consecutive measurem...</td>\n",
       "      <td>example_d675c9.py</td>\n",
       "      <td>11</td>\n",
       "      <td>ql-double-measurement</td>\n",
       "      <td>example_d675c9</td>\n",
       "      <td>py</td>\n",
       "      <td>MichalReznak/quep</td>\n",
       "      <td>2022-08-15 22:36:09</td>\n",
       "      <td>1.660596e+09</td>\n",
       "    </tr>\n",
       "    <tr>\n",
       "      <th>3</th>\n",
       "      <td>CodeQL</td>\n",
       "      <td>warning</td>\n",
       "      <td>ql-double-measurement Two consecutive measurem...</td>\n",
       "      <td>example_d675c9.py</td>\n",
       "      <td>11</td>\n",
       "      <td>ql-double-measurement</td>\n",
       "      <td>example_d675c9</td>\n",
       "      <td>py</td>\n",
       "      <td>MichalReznak/quep</td>\n",
       "      <td>2022-08-15 22:36:09</td>\n",
       "      <td>1.660596e+09</td>\n",
       "    </tr>\n",
       "    <tr>\n",
       "      <th>4</th>\n",
       "      <td>CodeQL</td>\n",
       "      <td>warning</td>\n",
       "      <td>ql-double-measurement Two consecutive measurem...</td>\n",
       "      <td>example_d675c9.py</td>\n",
       "      <td>12</td>\n",
       "      <td>ql-double-measurement</td>\n",
       "      <td>example_d675c9</td>\n",
       "      <td>py</td>\n",
       "      <td>MichalReznak/quep</td>\n",
       "      <td>2022-08-15 22:36:09</td>\n",
       "      <td>1.660596e+09</td>\n",
       "    </tr>\n",
       "  </tbody>\n",
       "</table>\n",
       "</div>"
      ],
      "text/plain": [
       "     Tool Severity                                               Code  \\\n",
       "0  CodeQL  warning  ql-double-measurement Two consecutive measurem...   \n",
       "1  CodeQL  warning  ql-double-measurement Two consecutive measurem...   \n",
       "2  CodeQL  warning  ql-double-measurement Two consecutive measurem...   \n",
       "3  CodeQL  warning  ql-double-measurement Two consecutive measurem...   \n",
       "4  CodeQL  warning  ql-double-measurement Two consecutive measurem...   \n",
       "\n",
       "            Location  Line                   rule       unique_id extension  \\\n",
       "0  example_d675c9.py    11  ql-double-measurement  example_d675c9        py   \n",
       "1  example_d675c9.py    11  ql-double-measurement  example_d675c9        py   \n",
       "2  example_d675c9.py    11  ql-double-measurement  example_d675c9        py   \n",
       "3  example_d675c9.py    11  ql-double-measurement  example_d675c9        py   \n",
       "4  example_d675c9.py    12  ql-double-measurement  example_d675c9        py   \n",
       "\n",
       "     repository_name             date_str     timestamp  \n",
       "0  MichalReznak/quep  2022-08-15 22:36:09  1.660596e+09  \n",
       "1  MichalReznak/quep  2022-08-15 22:36:09  1.660596e+09  \n",
       "2  MichalReznak/quep  2022-08-15 22:36:09  1.660596e+09  \n",
       "3  MichalReznak/quep  2022-08-15 22:36:09  1.660596e+09  \n",
       "4  MichalReznak/quep  2022-08-15 22:36:09  1.660596e+09  "
      ]
     },
     "execution_count": 6,
     "metadata": {},
     "output_type": "execute_result"
    }
   ],
   "source": [
    "df_warnings_plus_metadata = pd.merge(\n",
    "    df_warnings,\n",
    "    df_metadata,\n",
    "    on='unique_id',\n",
    "    how='left'\n",
    ")\n",
    "df_warnings_plus_metadata_plus_repo_info = pd.merge(\n",
    "    df_warnings_plus_metadata,\n",
    "    df_repo_info,\n",
    "    on='repository_name',\n",
    "    how='left'\n",
    ")\n",
    "df_warnings_plus_metadata_plus_repo_info.head()"
   ]
  },
  {
   "attachments": {},
   "cell_type": "markdown",
   "metadata": {},
   "source": [
    "# Prioritization: Most Recent Commit First"
   ]
  },
  {
   "cell_type": "code",
   "execution_count": 10,
   "metadata": {},
   "outputs": [
    {
     "name": "stdout",
     "output_type": "stream",
     "text": [
      "['unitaryfund/mitiq' 'C2QA/bosonic-qiskit' 'sudo-gera/c'\n",
      " 'hlammiv/z2_matter_qc' 'cda-tum/ddsim' 'csenrui/Pauli_Learnability'\n",
      " 'kevinwlu/iot' 'SupertechLabs/qiskit-superstaq' 'cda-tum/MQTBench'\n",
      " 'cda-tum/MQTProblemSolver' 'cda-tum/qcec' 'ACDuriez/qu_engine_std'\n",
      " 'Qiskit/platypus']\n",
      "['test_folding_607e79' 'test_pec_665506' 'circuit_bf7359' 'quant_8a85ae'\n",
      " 'test_60662b' 'test_path_sim_standalone_simulator_374dda'\n",
      " 'test_multi_registers_convention_b0607e' 'generate_benchmarks_f69113'\n",
      " 'ddsim_b86c86' 'transpile_c6fa63' 'magic_square_ad2488'\n",
      " 'superstaq_provider_test_113629' 'daily_integration_test_3371a8'\n",
      " 'qwalk_6fe39d' 'paper_figures_8aaaa1' 'test_8f268e'\n",
      " 'test_construction_a4bfb3' 'test_verify_bb2e8e' 'deutsch_5b87a9'\n",
      " 'qaoa_ea07b8' 'qiskit_c50734' 'qaoa_57a9a0']\n"
     ]
    },
    {
     "data": {
      "image/png": "[encoded data removed]",
      "text/plain": [
       "<Figure size 640x480 with 1 Axes>"
      ]
     },
     "metadata": {},
     "output_type": "display_data"
    }
   ],
   "source": [
    "K_warnings = 1000\n",
    "# sort by the most recent timestamp\n",
    "df_warnings_plus_metadata_plus_repo_info = df_warnings_plus_metadata_plus_repo_info.sort_values(by=['timestamp'], ascending=False)\n",
    "# pick repositories in the top 100 warnings\n",
    "df_selection = df_warnings_plus_metadata_plus_repo_info.head(K_warnings)\n",
    "sns.countplot(\n",
    "    hue=\"rule\",\n",
    "    y=\"repository_name\", data=df_selection)\n",
    "plt.xscale('log')\n",
    "repos_in_top_K = df_selection['repository_name'].unique()\n",
    "print(repos_in_top_K)\n",
    "unique_ids_in_top_K = df_selection['unique_id'].unique()\n",
    "df_warnings_plus_metadata_plus_repo_info.head(5)\n",
    "print(unique_ids_in_top_K)"
   ]
  },
  {
   "cell_type": "code",
   "execution_count": 11,
   "metadata": {},
   "outputs": [
    {
     "data": {
      "text/html": [
       "<pre style=\"word-wrap: normal;white-space: pre;background: #fff0;line-height: 1.1;font-family: &quot;Courier New&quot;,Courier,monospace\">        ┌───┐                     ░ ┌─┐            \n",
       "   q_0: ┤ X ├──■────■────■────■───░─┤M├────────────\n",
       "        └───┘┌─┴─┐  │    │    │   ░ └╥┘┌─┐         \n",
       "   q_1: ─────┤ X ├──┼────┼────┼───░──╫─┤M├─────────\n",
       "             └───┘┌─┴─┐  │    │   ░  ║ └╥┘┌─┐      \n",
       "   q_2: ──────────┤ X ├──┼────┼───░──╫──╫─┤M├──────\n",
       "                  └───┘┌─┴─┐  │   ░  ║  ║ └╥┘┌─┐   \n",
       "   q_3: ───────────────┤ X ├──┼───░──╫──╫──╫─┤M├───\n",
       "                       └───┘┌─┴─┐ ░  ║  ║  ║ └╥┘┌─┐\n",
       "   q_4: ────────────────────┤ X ├─░──╫──╫──╫──╫─┤M├\n",
       "                            └───┘ ░  ║  ║  ║  ║ └╥┘\n",
       "   c: 5/═════════════════════════════╬══╬══╬══╬══╬═\n",
       "                                     ║  ║  ║  ║  ║ \n",
       "meas: 5/═════════════════════════════╩══╩══╩══╩══╩═\n",
       "                                     0  1  2  3  4 </pre>"
      ],
      "text/plain": [
       "        ┌───┐                     ░ ┌─┐            \n",
       "   q_0: ┤ X ├──■────■────■────■───░─┤M├────────────\n",
       "        └───┘┌─┴─┐  │    │    │   ░ └╥┘┌─┐         \n",
       "   q_1: ─────┤ X ├──┼────┼────┼───░──╫─┤M├─────────\n",
       "             └───┘┌─┴─┐  │    │   ░  ║ └╥┘┌─┐      \n",
       "   q_2: ──────────┤ X ├──┼────┼───░──╫──╫─┤M├──────\n",
       "                  └───┘┌─┴─┐  │   ░  ║  ║ └╥┘┌─┐   \n",
       "   q_3: ───────────────┤ X ├──┼───░──╫──╫──╫─┤M├───\n",
       "                       └───┘┌─┴─┐ ░  ║  ║  ║ └╥┘┌─┐\n",
       "   q_4: ────────────────────┤ X ├─░──╫──╫──╫──╫─┤M├\n",
       "                            └───┘ ░  ║  ║  ║  ║ └╥┘\n",
       "   c: 5/═════════════════════════════╬══╬══╬══╬══╬═\n",
       "                                     ║  ║  ║  ║  ║ \n",
       "meas: 5/═════════════════════════════╩══╩══╩══╩══╩═\n",
       "                                     0  1  2  3  4 "
      ]
     },
     "execution_count": 11,
     "metadata": {},
     "output_type": "execute_result"
    }
   ],
   "source": [
    "# 08_c50734_412 >> qiskit_c50734 \n",
    "from qiskit import QuantumCircuit\n",
    "qc = QuantumCircuit(5,5)\n",
    "qc.x(0)\n",
    "for q in range(4):\n",
    "    qc.cx(0,q+1)\n",
    "qc.measure_all()\n",
    "qc.draw()"
   ]
  },
  {
   "cell_type": "code",
   "execution_count": 11,
   "metadata": {},
   "outputs": [
    {
     "name": "stdout",
     "output_type": "stream",
     "text": [
      "1 x gates have been added\n",
      "2 x gates have been added\n",
      "3 x gates have been added\n",
      "4 x gates have been added\n"
     ]
    },
    {
     "data": {
      "text/html": [
       "<pre style=\"word-wrap: normal;white-space: pre;background: #fff0;line-height: 1.1;font-family: &quot;Courier New&quot;,Courier,monospace\">          ┌───┐ ░ ┌───┐┌───┐┌───┐┌───┐ ░ ┌─┐┌─┐\n",
       "  q: ─|0>─┤ X ├─░─┤ X ├┤ X ├┤ X ├┤ X ├─░─┤M├┤M├\n",
       "          └───┘ ░ └───┘└───┘└───┘└───┘ ░ └╥┘└╥┘\n",
       "c: 1/═════════════════════════════════════╩══╩═\n",
       "                                          0  0 </pre>"
      ],
      "text/plain": [
       "          ┌───┐ ░ ┌───┐┌───┐┌───┐┌───┐ ░ ┌─┐┌─┐\n",
       "  q: ─|0>─┤ X ├─░─┤ X ├┤ X ├┤ X ├┤ X ├─░─┤M├┤M├\n",
       "          └───┘ ░ └───┘└───┘└───┘└───┘ ░ └╥┘└╥┘\n",
       "c: 1/═════════════════════════════════════╩══╩═\n",
       "                                          0  0 "
      ]
     },
     "execution_count": 11,
     "metadata": {},
     "output_type": "execute_result"
    }
   ],
   "source": [
    "# 06_fe6009_63\n",
    "from qiskit import QuantumCircuit\n",
    "\n",
    "def inefficientNOT(inefficiencies, inp, layout = [0], n_times = 100):\n",
    "    \"\"\"\n",
    "    This NOT gate includes an int number of inefficiencies, which determines \n",
    "    how many qc.x gates the NOT will apply. Note that inefficiencies\n",
    "    should always be an odd number for the gate to function as a not\n",
    "    \n",
    "    \"\"\"\n",
    "    qc = QuantumCircuit(1, 1) # A quantum circuit with a single qubit and a single classical bit\n",
    "    qc.reset(0)\n",
    "    \n",
    "    if inp=='1':\n",
    "        qc.x(0)\n",
    "    \n",
    "    qc.barrier()\n",
    "    \"\"\"We apply a predefined number of inefficiencies.\n",
    "    Unfortunately, and contrary to our expectations, this did not yield a decreased\n",
    "    accuracy result when running on a quantum computer. For the inefficiency-reduced accuracy,\n",
    "    we will use the NOT() function instead\"\"\"\n",
    "    for i in range(inefficiencies):\n",
    "        print(i+1, \"x gates have been added\")\n",
    "        qc.x(0)\n",
    "    #barrier between gate operation and measurement\n",
    "    qc.barrier()\n",
    "    qc.measure(0,0)\n",
    "    trial = qc.measure(0,0)\n",
    "    return qc\n",
    "    \n",
    "\n",
    "\n",
    "qc = inefficientNOT(\n",
    "    inefficiencies=4,\n",
    "    inp='1',\n",
    ")\n",
    "qc.draw()\n"
   ]
  },
  {
   "cell_type": "code",
   "execution_count": 12,
   "metadata": {},
   "outputs": [
    {
     "name": "stdout",
     "output_type": "stream",
     "text": [
      "{'1': 1024}\n"
     ]
    }
   ],
   "source": [
    "from qiskit import transpile, execute, Aer\n",
    "backend = Aer.get_backend('qasm_simulator')\n",
    "qc_trans = transpile(qc, backend, optimization_level=3)\n",
    "job = execute(qc_trans, backend, shots=1024)\n",
    "output = job.result().get_counts()\n",
    "print(output)"
   ]
  },
  {
   "cell_type": "code",
   "execution_count": 48,
   "metadata": {},
   "outputs": [
    {
     "name": "stdout",
     "output_type": "stream",
     "text": [
      "{'11': 259, '00': 239, '10': 266, '01': 260}\n"
     ]
    },
    {
     "data": {
      "image/png": "[encoded data removed]",
      "text/plain": [
       "<Figure size 700x500 with 1 Axes>"
      ]
     },
     "execution_count": 48,
     "metadata": {},
     "output_type": "execute_result"
    }
   ],
   "source": [
    "# 06_7da521_55\n",
    "from qiskit import *\n",
    "import matplotlib.pyplot as plt\n",
    "\n",
    "def create_circuit_06_7da521_55():\n",
    "    circuit = QuantumCircuit(3, 2)\n",
    "    #circuit.x(0)\n",
    "    circuit.barrier()\n",
    "    circuit.h(1)\n",
    "    circuit.cx(1,2)\n",
    "    circuit.cx(0,1)\n",
    "    circuit.h(0)\n",
    "    circuit.barrier()\n",
    "    circuit.measure([0,1], [0,1])\n",
    "    circuit.barrier()\n",
    "    circuit.cx(1,2)\n",
    "    circuit.cz(0,2)\n",
    "    #circuit.measure(2,2)\n",
    "    return circuit\n",
    "\n",
    "qc = create_circuit_06_7da521_55()\n",
    "simulator = Aer.get_backend('qasm_simulator')\n",
    "result = execute(qc, backend = simulator, shots = 1024).result()\n",
    "counts = result.get_counts()\n",
    "from qiskit.tools.visualization import plot_histogram\n",
    "print(counts)\n",
    "\n",
    "plot_histogram(counts)\n"
   ]
  },
  {
   "cell_type": "code",
   "execution_count": 44,
   "metadata": {},
   "outputs": [
    {
     "data": {
      "text/latex": [
       "$$\n",
       "|\\psi\\rangle =\n",
       "\\begin{bmatrix}\n",
       "0.3071986264 - 0.378071845 i & -0.2835691068 - 0.8260019646 i  \\\\\n",
       " \\end{bmatrix}\n",
       "$$"
      ],
      "text/plain": [
       "<IPython.core.display.Latex object>"
      ]
     },
     "metadata": {},
     "output_type": "display_data"
    }
   ],
   "source": [
    "from qiskit.quantum_info import random_statevector\n",
    "from qiskit.visualization import plot_histogram, plot_bloch_multivector, array_to_latex\n",
    "from qiskit.extensions import Initialize\n",
    "from qiskit import IBMQ, Aer, transpile, assemble\n",
    "from qiskit import QuantumCircuit, ClassicalRegister, QuantumRegister\n",
    "\n",
    "# Create random 1-qubit state\n",
    "psi = random_statevector(dims=2, seed=42)\n",
    "\n",
    "# Display it nicely\n",
    "display(array_to_latex(psi, prefix=\"|\\\\psi\\\\rangle =\"))\n",
    "# Show it on a Bloch sphere\n",
    "plot_bloch_multivector(psi)\n",
    "init_gate = Initialize(psi)\n",
    "init_gate.label = \"init\"\n",
    "\n",
    "inverse_init_gate = init_gate.gates_to_uncompute()\n",
    "\n",
    "def get_Qiskit_teleportation() -> QuantumCircuit:\n",
    "    # TUTORIAL\n",
    "    qr = QuantumRegister(3, name=\"q\")    # Protocol uses 3 qubits\n",
    "    crz = ClassicalRegister(1, name=\"crz\") # and 2 classical bits\n",
    "    crx = ClassicalRegister(1, name=\"crx\") # in 2 different registers\n",
    "    teleportation_circuit = QuantumCircuit(qr, crz, crx)\n",
    "\n",
    "    def create_bell_pair(qc, a, b):\n",
    "        \"\"\"Creates a bell pair in qc using qubits a & b\"\"\"\n",
    "        qc.h(a) # Put qubit a into state |+>\n",
    "        qc.cx(a,b) # CNOT with a as control and b as target\n",
    "\n",
    "    def alice_gates(qc, psi, a):\n",
    "        qc.cx(psi, a)\n",
    "        qc.h(psi)\n",
    "\n",
    "    def measure_and_send(qc, a, b):\n",
    "        \"\"\"Measures qubits a & b and 'sends' the results to Bob\"\"\"\n",
    "        qc.barrier()\n",
    "        qc.measure(a,0)\n",
    "        qc.measure(b,1)\n",
    "\n",
    "    # This function takes a QuantumCircuit (qc), integer (qubit)\n",
    "    # and ClassicalRegisters (crz & crx) to decide which gates to apply\n",
    "    def bob_gates(qc, qubit, crz, crx):\n",
    "        # Here we use c_if to control our gates with a classical\n",
    "        # bit instead of a qubit\n",
    "        qc.x(qubit).c_if(crx, 1) # Apply gates if the registers \n",
    "        qc.z(qubit).c_if(crz, 1) # are in the state '1'\n",
    "\n",
    "    ## SETUP\n",
    "    # Protocol uses 3 qubits and 2 classical bits in 2 different registers\n",
    "    qr = QuantumRegister(3, name=\"q\")\n",
    "    crz, crx = ClassicalRegister(1, name=\"crz\"), ClassicalRegister(1, name=\"crx\")\n",
    "    teleportation_circuit = QuantumCircuit(qr, crz, crx)\n",
    "\n",
    "\n",
    "    ## STEP 1\n",
    "    # In our case, Telamon entangles qubits q1 and q2\n",
    "    # Let's apply this to our circuit:\n",
    "    create_bell_pair(teleportation_circuit, 1, 2)\n",
    "    # And view the circuit so far:\n",
    "    # print(teleportation_circuit)\n",
    "\n",
    "    ## STEP 2\n",
    "    teleportation_circuit.barrier() # Use barrier to separate steps\n",
    "    alice_gates(teleportation_circuit, 0, 1)\n",
    "    # print(teleportation_circuit)\n",
    "\n",
    "    ## STEP 3\n",
    "    measure_and_send(teleportation_circuit, 0 ,1)\n",
    "    # print(teleportation_circuit)\n",
    "\n",
    "    ## STEP 4\n",
    "    teleportation_circuit.barrier() # Use barrier to separate steps\n",
    "    bob_gates(teleportation_circuit, 2, crz, crx)    \n",
    "    return teleportation_circuit"
   ]
  },
  {
   "cell_type": "code",
   "execution_count": 45,
   "metadata": {},
   "outputs": [
    {
     "name": "stdout",
     "output_type": "stream",
     "text": [
      "Before test:\n",
      "                  ░      ┌───┐ ░ ┌─┐    ░               \n",
      "  q_0: ───────────░───■──┤ H ├─░─┤M├────░───────────────\n",
      "       ┌───┐      ░ ┌─┴─┐└───┘ ░ └╥┘┌─┐ ░               \n",
      "  q_1: ┤ H ├──■───░─┤ X ├──────░──╫─┤M├─░───────────────\n",
      "       └───┘┌─┴─┐ ░ └───┘      ░  ║ └╥┘ ░  ┌───┐  ┌───┐ \n",
      "  q_2: ─────┤ X ├─░────────────░──╫──╫──░──┤ X ├──┤ Z ├─\n",
      "            └───┘ ░            ░  ║  ║  ░  └─╥─┘  └─╥─┘ \n",
      "                                  ║  ║       ║   ┌──╨──┐\n",
      "crz: 1/═══════════════════════════╩══╬═══════╬═══╡ 0x1 ╞\n",
      "                                  0  ║    ┌──╨──┐└─────┘\n",
      "crx: 1/══════════════════════════════╩════╡ 0x1 ╞═══════\n",
      "                                     0    └─────┘       \n",
      "After test:\n",
      "global phase: 1.395\n",
      "       ┌───────────────────────────────────────┐      ░      ┌───┐ ░ ┌─┐    ░ »\n",
      "  q_0: ┤ init(0.3072-0.37807j,-0.28357-0.826j) ├──────░───■──┤ H ├─░─┤M├────░─»\n",
      "       └─────────────────┬───┬─────────────────┘      ░ ┌─┴─┐└───┘ ░ └╥┘┌─┐ ░ »\n",
      "  q_1: ──────────────────┤ H ├────────────────────■───░─┤ X ├──────░──╫─┤M├─░─»\n",
      "                         └───┘                  ┌─┴─┐ ░ └───┘      ░  ║ └╥┘ ░ »\n",
      "  q_2: ─────────────────────────────────────────┤ X ├─░────────────░──╫──╫──░─»\n",
      "                                                └───┘ ░            ░  ║  ║  ░ »\n",
      "crz: 1/═══════════════════════════════════════════════════════════════╩══╬════»\n",
      "                                                                      0  ║    »\n",
      "crx: 1/══════════════════════════════════════════════════════════════════╩════»\n",
      "                                                                         0    »\n",
      "c14: 1/═══════════════════════════════════════════════════════════════════════»\n",
      "                                                                              »\n",
      "«                                                            \n",
      "«  q_0: ─────────────────────────────────────────────────────\n",
      "«                                                            \n",
      "«  q_1: ─────────────────────────────────────────────────────\n",
      "«        ┌───┐  ┌───┐ ┌────────────┐┌────────────────────┐┌─┐\n",
      "«  q_2: ─┤ X ├──┤ Z ├─┤ multiplex1 ├┤ multiplex1_reverse ├┤M├\n",
      "«        └─╥─┘  └─╥─┘ └────────────┘└────────────────────┘└╥┘\n",
      "«          ║   ┌──╨──┐                                     ║ \n",
      "«crz: 1/═══╬═══╡ 0x1 ╞═════════════════════════════════════╬═\n",
      "«       ┌──╨──┐└─────┘                                     ║ \n",
      "«crx: 1/╡ 0x1 ╞════════════════════════════════════════════╬═\n",
      "«       └─────┘                                            ║ \n",
      "«c14: 1/═══════════════════════════════════════════════════╩═\n",
      "«                                                          0 \n",
      "Expected 0 is the most popular state:\n"
     ]
    },
    {
     "data": {
      "image/png": "[encoded data removed]",
      "text/plain": [
       "<Figure size 700x500 with 1 Axes>"
      ]
     },
     "execution_count": 45,
     "metadata": {},
     "output_type": "execute_result"
    }
   ],
   "source": [
    "from qiskit.ignis.verification import marginal_counts\n",
    "from qiskit import IBMQ, Aer, transpile, assemble\n",
    "\n",
    "def test_teleportation(qc: QuantumCircuit):\n",
    "    \"\"\"Check if the teleportation circuit gives the correct result.\"\"\"\n",
    "    print(\"Before test:\")\n",
    "    print(qc)\n",
    "    qc.compose(init_gate, [0], inplace=True, front=True)\n",
    "    qc.compose(inverse_init_gate, [2], inplace=True)\n",
    "\n",
    "    # Need to add a new ClassicalRegister\n",
    "    # to see the result\n",
    "    cr_result = ClassicalRegister(1)\n",
    "    qc.add_register(cr_result)\n",
    "    qc.measure(2,2)\n",
    "    print(\"After test:\")\n",
    "    print(qc)\n",
    "\n",
    "    sim = Aer.get_backend('aer_simulator')\n",
    "\n",
    "    t_qc = transpile(qc, sim)\n",
    "    counts = sim.run(t_qc).result().get_counts()\n",
    "    qubit_counts = [marginal_counts(counts, [qubit]) for qubit in range(3)]\n",
    "    return qubit_counts\n",
    "\n",
    "qc_qiskit_doc = get_Qiskit_teleportation()\n",
    "qubit_counts = test_teleportation(qc_qiskit_doc)\n",
    "print(\"Expected 0 is the most popular state:\")\n",
    "plot_histogram(qubit_counts)"
   ]
  },
  {
   "cell_type": "code",
   "execution_count": 49,
   "metadata": {},
   "outputs": [
    {
     "name": "stdout",
     "output_type": "stream",
     "text": [
      "Before test:\n",
      "      ░                ┌───┐ ░ ┌─┐    ░         \n",
      "q_0: ─░─────────────■──┤ H ├─░─┤M├────░───────■─\n",
      "      ░ ┌───┐     ┌─┴─┐└───┘ ░ └╥┘┌─┐ ░       │ \n",
      "q_1: ─░─┤ H ├──■──┤ X ├──────░──╫─┤M├─░───■───┼─\n",
      "      ░ └───┘┌─┴─┐└───┘      ░  ║ └╥┘ ░ ┌─┴─┐ │ \n",
      "q_2: ─░──────┤ X ├───────────░──╫──╫──░─┤ X ├─■─\n",
      "      ░      └───┘           ░  ║  ║  ░ └───┘   \n",
      "c: 2/═══════════════════════════╩══╩════════════\n",
      "                                0  1            \n",
      "After test:\n",
      "global phase: 1.395\n",
      "       ┌───────────────────────────────────────┐ ░                ┌───┐ ░ ┌─┐»\n",
      "  q_0: ┤ init(0.3072-0.37807j,-0.28357-0.826j) ├─░─────────────■──┤ H ├─░─┤M├»\n",
      "       └───────────────────────────────────────┘ ░ ┌───┐     ┌─┴─┐└───┘ ░ └╥┘»\n",
      "  q_1: ──────────────────────────────────────────░─┤ H ├──■──┤ X ├──────░──╫─»\n",
      "                                                 ░ └───┘┌─┴─┐└───┘      ░  ║ »\n",
      "  q_2: ──────────────────────────────────────────░──────┤ X ├───────────░──╫─»\n",
      "                                                 ░      └───┘           ░  ║ »\n",
      "  c: 2/════════════════════════════════════════════════════════════════════╩═»\n",
      "                                                                           0 »\n",
      "c17: 1/══════════════════════════════════════════════════════════════════════»\n",
      "                                                                             »\n",
      "«           ░                                                \n",
      "«  q_0: ────░───────■────────────────────────────────────────\n",
      "«       ┌─┐ ░       │                                        \n",
      "«  q_1: ┤M├─░───■───┼────────────────────────────────────────\n",
      "«       └╥┘ ░ ┌─┴─┐ │ ┌────────────┐┌────────────────────┐┌─┐\n",
      "«  q_2: ─╫──░─┤ X ├─■─┤ multiplex1 ├┤ multiplex1_reverse ├┤M├\n",
      "«        ║  ░ └───┘   └────────────┘└────────────────────┘└╥┘\n",
      "«  c: 2/═╩═════════════════════════════════════════════════╬═\n",
      "«        1                                                 ║ \n",
      "«c17: 1/═══════════════════════════════════════════════════╩═\n",
      "«                                                          0 \n",
      "Expected 0 is the most popular state:\n"
     ]
    },
    {
     "data": {
      "image/png": "[encoded data removed]",
      "text/plain": [
       "<Figure size 700x500 with 1 Axes>"
      ]
     },
     "execution_count": 49,
     "metadata": {},
     "output_type": "execute_result"
    }
   ],
   "source": [
    "qc_06_7da521_55 = create_circuit_06_7da521_55()\n",
    "qubit_counts = test_teleportation(qc_06_7da521_55)\n",
    "print(\"Expected 0 is the most popular state:\")\n",
    "plot_histogram(qubit_counts)"
   ]
  },
  {
   "cell_type": "code",
   "execution_count": 52,
   "metadata": {},
   "outputs": [
    {
     "name": "stdout",
     "output_type": "stream",
     "text": [
      "Before test:\n",
      "      ░                ┌───┐ ░            ┌─┐\n",
      "q_0: ─░─────────────■──┤ H ├─░───────■────┤M├\n",
      "      ░ ┌───┐     ┌─┴─┐└───┘ ░       │ ┌─┐└╥┘\n",
      "q_1: ─░─┤ H ├──■──┤ X ├──────░───■───┼─┤M├─╫─\n",
      "      ░ └───┘┌─┴─┐└───┘      ░ ┌─┴─┐ │ └╥┘ ║ \n",
      "q_2: ─░──────┤ X ├───────────░─┤ X ├─■──╫──╫─\n",
      "      ░      └───┘           ░ └───┘    ║  ║ \n",
      "c: 2/═══════════════════════════════════╩══╩═\n",
      "                                        1  0 \n",
      "After test:\n",
      "global phase: 1.395\n",
      "       ┌───────────────────────────────────────┐ ░                ┌───┐ ░      »\n",
      "  q_0: ┤ init(0.3072-0.37807j,-0.28357-0.826j) ├─░─────────────■──┤ H ├─░──────»\n",
      "       └───────────────────────────────────────┘ ░ ┌───┐     ┌─┴─┐└───┘ ░      »\n",
      "  q_1: ──────────────────────────────────────────░─┤ H ├──■──┤ X ├──────░───■──»\n",
      "                                                 ░ └───┘┌─┴─┐└───┘      ░ ┌─┴─┐»\n",
      "  q_2: ──────────────────────────────────────────░──────┤ X ├───────────░─┤ X ├»\n",
      "                                                 ░      └───┘           ░ └───┘»\n",
      "  c: 2/════════════════════════════════════════════════════════════════════════»\n",
      "                                                                               »\n",
      "c20: 1/════════════════════════════════════════════════════════════════════════»\n",
      "                                                                               »\n",
      "«             ┌─┐                                       \n",
      "«  q_0: ─■────┤M├───────────────────────────────────────\n",
      "«        │ ┌─┐└╥┘                                       \n",
      "«  q_1: ─┼─┤M├─╫────────────────────────────────────────\n",
      "«        │ └╥┘ ║ ┌────────────┐┌────────────────────┐┌─┐\n",
      "«  q_2: ─■──╫──╫─┤ multiplex1 ├┤ multiplex1_reverse ├┤M├\n",
      "«           ║  ║ └────────────┘└────────────────────┘└╥┘\n",
      "«  c: 2/════╩══╩══════════════════════════════════════╬═\n",
      "«           1  0                                      ║ \n",
      "«c20: 1/══════════════════════════════════════════════╩═\n",
      "«                                                     0 \n",
      "Expected 0 is the most popular state:\n"
     ]
    },
    {
     "data": {
      "image/png": "[encoded data removed]",
      "text/plain": [
       "<Figure size 700x500 with 1 Axes>"
      ]
     },
     "execution_count": 52,
     "metadata": {},
     "output_type": "execute_result"
    }
   ],
   "source": [
    "def qc_qiskit_deferred():\n",
    "    circuit = QuantumCircuit(3,2)\n",
    "    #circuit.x(0)\n",
    "    circuit.barrier()\n",
    "    circuit.h(1)\n",
    "    circuit.cx(1,2)\n",
    "    circuit.cx(0,1)\n",
    "    circuit.h(0)\n",
    "    circuit.barrier()\n",
    "    circuit.cx(1,2)\n",
    "    circuit.cz(0,2)\n",
    "    circuit.measure(0,0)\n",
    "    circuit.measure(1,1)\n",
    "    return circuit\n",
    "\n",
    "qc_deferred = qc_qiskit_deferred()\n",
    "qubit_counts = test_teleportation(qc_deferred)\n",
    "print(\"Expected 0 is the most popular state:\")\n",
    "plot_histogram(qubit_counts)"
   ]
  },
  {
   "cell_type": "code",
   "execution_count": null,
   "metadata": {},
   "outputs": [],
   "source": []
  }
 ],
 "metadata": {
  "kernelspec": {
   "display_name": "Python 3.8.0 ('venv38': venv)",
   "language": "python",
   "name": "python3"
  },
  "language_info": {
   "codemirror_mode": {
    "name": "ipython",
    "version": 3
   },
   "file_extension": ".py",
   "mimetype": "text/x-python",
   "name": "python",
   "nbconvert_exporter": "python",
   "pygments_lexer": "ipython3",
   "version": "3.8.0"
  },
  "orig_nbformat": 4,
  "vscode": {
   "interpreter": {
    "hash": "cb1ad55548147a34c44e49321d0d34eedf7bd25fa9805bca1aa59a464f366bf8"
   }
  }
 },
 "nbformat": 4,
 "nbformat_minor": 2
}
