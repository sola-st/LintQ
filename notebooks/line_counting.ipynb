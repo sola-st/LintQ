{
 "cells": [
  {
   "attachments": {},
   "cell_type": "markdown",
   "metadata": {},
   "source": [
    "Count number of lines of the files of the dataset.\n",
    "Before and after the loop unrolling pre-processing."
   ]
  },
  {
   "cell_type": "code",
   "execution_count": 7,
   "metadata": {},
   "outputs": [],
   "source": [
    "DIR_ORIGINAL_PROGRAMS = '../data/datasets/exp_v08/intermediate_results/exclude_platform_code'\n",
    "DIR_UNROLLED_PROGRAMS = '../data/datasets/exp_v08/intermediate_results/unroll_loops'\n",
    "\n",
    "import os\n",
    "import pandas as pd"
   ]
  },
  {
   "cell_type": "code",
   "execution_count": 8,
   "metadata": {},
   "outputs": [
    {
     "name": "stdout",
     "output_type": "stream",
     "text": [
      "cloc_original.xml already exists\n"
     ]
    }
   ],
   "source": [
    "if not os.path.exists('cloc_original.xml'):\n",
    "    ! pygount --suffix=py --format=cloc-xml --out=cloc_original.xml {DIR_ORIGINAL_PROGRAMS}\n",
    "else:\n",
    "    print('cloc_original.xml already exists')"
   ]
  },
  {
   "cell_type": "code",
   "execution_count": 9,
   "metadata": {},
   "outputs": [
    {
     "name": "stdout",
     "output_type": "stream",
     "text": [
      "\u001b[2KWorking... \u001b[90m━━━━━━━━━━━━━━━━━━━━━━━━━━━━━━━━━━━━━━━━\u001b[0m \u001b[35m100%\u001b[0m \u001b[36m0:00:00\u001b[0m00:01\u001b[0m00:49\u001b[0m\n",
      "\u001b[1A\u001b[2K"
     ]
    }
   ],
   "source": [
    "# if cloc_unrolled.xml is not in the current directory, run the following command:\n",
    "if not os.path.exists('cloc_unrolled.xml'):\n",
    "    ! pygount --suffix=py --format=cloc-xml --out=cloc_unrolled.xml {DIR_UNROLLED_PROGRAMS}\n",
    "else:\n",
    "    print('cloc_unrolled.xml already exists')"
   ]
  },
  {
   "cell_type": "code",
   "execution_count": 11,
   "metadata": {},
   "outputs": [
    {
     "name": "stdout",
     "output_type": "stream",
     "text": [
      "\\newcommand{\\TotalLinesOriginalPrograms}{757,369}\n",
      "\\newcommand{\\TotalLinesUnrolledPrograms}{879,119}\n"
     ]
    }
   ],
   "source": [
    "xml = open('cloc_original.xml', 'r').read()\n",
    "df = pd.read_xml(xml, xpath=\".//file\")\n",
    "total_lines = df['code'].sum()\n",
    "print(\"\\\\newcommand{\\\\TotalLinesOriginalPrograms}{\" + f\"{total_lines:,}\" + \"}\")\n",
    "\n",
    "xml = open('cloc_unrolled.xml', 'r').read()\n",
    "df = pd.read_xml(xml, xpath=\".//file\")\n",
    "total_lines = df['code'].sum()\n",
    "print(\"\\\\newcommand{\\\\TotalLinesUnrolledPrograms}{\" + f\"{total_lines:,}\" + \"}\")"
   ]
  },
  {
   "cell_type": "code",
   "execution_count": null,
   "metadata": {},
   "outputs": [],
   "source": [
    "\n"
   ]
  }
 ],
 "metadata": {
  "kernelspec": {
   "display_name": "venv38",
   "language": "python",
   "name": "python3"
  },
  "language_info": {
   "codemirror_mode": {
    "name": "ipython",
    "version": 3
   },
   "file_extension": ".py",
   "mimetype": "text/x-python",
   "name": "python",
   "nbconvert_exporter": "python",
   "pygments_lexer": "ipython3",
   "version": "3.8.0"
  },
  "orig_nbformat": 4
 },
 "nbformat": 4,
 "nbformat_minor": 2
}
