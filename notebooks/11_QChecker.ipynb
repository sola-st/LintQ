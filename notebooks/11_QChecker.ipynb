{
 "cells": [
  {
   "attachments": {},
   "cell_type": "markdown",
   "metadata": {},
   "source": [
    "**Goal**: Inspect the waring messages and errors of the QChecker tool run on the LintQ dataset."
   ]
  },
  {
   "cell_type": "code",
   "execution_count": 10,
   "metadata": {},
   "outputs": [],
   "source": [
    "import project_path\n",
    "from rdlib import *  # this imports the base libraries"
   ]
  },
  {
   "cell_type": "code",
   "execution_count": 11,
   "metadata": {},
   "outputs": [],
   "source": [
    "CONFIG_FILE = '../config/competitors/qchecker_v08.yaml'\n",
    "with open(CONFIG_FILE) as f:\n",
    "    config = yaml.safe_load(f)\n",
    "\n",
    "DIR_OUTPUT = os.path.join(\"..\", config['output_folder'])"
   ]
  },
  {
   "cell_type": "code",
   "execution_count": 12,
   "metadata": {},
   "outputs": [
    {
     "data": {
      "text/plain": [
       "'../data/datasets/exp_v08/qchecker'"
      ]
     },
     "execution_count": 12,
     "metadata": {},
     "output_type": "execute_result"
    }
   ],
   "source": [
    "DIR_OUTPUT"
   ]
  },
  {
   "cell_type": "code",
   "execution_count": 16,
   "metadata": {},
   "outputs": [
    {
     "name": "stdout",
     "output_type": "stream",
     "text": [
      "['../data/datasets/exp_v08/qchecker/IIS.csv', '../data/datasets/exp_v08/qchecker/IG.csv', '../data/datasets/exp_v08/qchecker/CE.csv', '../data/datasets/exp_v08/qchecker/IM.csv', '../data/datasets/exp_v08/qchecker/PE.csv', '../data/datasets/exp_v08/qchecker/CM.csv', '../data/datasets/exp_v08/qchecker/MI.csv', '../data/datasets/exp_v08/qchecker/QE.csv', '../data/datasets/exp_v08/qchecker/DO.csv']\n"
     ]
    },
    {
     "data": {
      "text/html": [
       "<div>\n",
       "<style scoped>\n",
       "    .dataframe tbody tr th:only-of-type {\n",
       "        vertical-align: middle;\n",
       "    }\n",
       "\n",
       "    .dataframe tbody tr th {\n",
       "        vertical-align: top;\n",
       "    }\n",
       "\n",
       "    .dataframe thead th {\n",
       "        text-align: right;\n",
       "    }\n",
       "</style>\n",
       "<table border=\"1\" class=\"dataframe\">\n",
       "  <thead>\n",
       "    <tr style=\"text-align: right;\">\n",
       "      <th></th>\n",
       "      <th>filename</th>\n",
       "      <th>checker</th>\n",
       "      <th>description</th>\n",
       "      <th>line</th>\n",
       "      <th>message</th>\n",
       "      <th>error</th>\n",
       "      <th>error_type</th>\n",
       "    </tr>\n",
       "  </thead>\n",
       "  <tbody>\n",
       "    <tr>\n",
       "      <th>0</th>\n",
       "      <td>qiskit_runner_a05ff0.py</td>\n",
       "      <td>IIS</td>\n",
       "      <td>Incorrect initial state</td>\n",
       "      <td>NaN</td>\n",
       "      <td>Error analyzing file: local variable 'value' r...</td>\n",
       "      <td>True</td>\n",
       "      <td>analysis_error</td>\n",
       "    </tr>\n",
       "    <tr>\n",
       "      <th>1</th>\n",
       "      <td>01_operator_flow_87f6ae.py</td>\n",
       "      <td>IIS</td>\n",
       "      <td>Incorrect initial state</td>\n",
       "      <td>NaN</td>\n",
       "      <td>Error analyzing file: local variable 'value' r...</td>\n",
       "      <td>True</td>\n",
       "      <td>analysis_error</td>\n",
       "    </tr>\n",
       "    <tr>\n",
       "      <th>2</th>\n",
       "      <td>graders_f3ed23.py</td>\n",
       "      <td>IIS</td>\n",
       "      <td>Incorrect initial state</td>\n",
       "      <td>NaN</td>\n",
       "      <td>No warnings to report.</td>\n",
       "      <td>False</td>\n",
       "      <td>NaN</td>\n",
       "    </tr>\n",
       "    <tr>\n",
       "      <th>3</th>\n",
       "      <td>challenge4_circuitdecomposition_6c33bd.py</td>\n",
       "      <td>IIS</td>\n",
       "      <td>Incorrect initial state</td>\n",
       "      <td>NaN</td>\n",
       "      <td>No warnings to report.</td>\n",
       "      <td>False</td>\n",
       "      <td>NaN</td>\n",
       "    </tr>\n",
       "    <tr>\n",
       "      <th>4</th>\n",
       "      <td>run_circuit_3a72ed.py</td>\n",
       "      <td>IIS</td>\n",
       "      <td>Incorrect initial state</td>\n",
       "      <td>NaN</td>\n",
       "      <td>No warnings to report.</td>\n",
       "      <td>False</td>\n",
       "      <td>NaN</td>\n",
       "    </tr>\n",
       "  </tbody>\n",
       "</table>\n",
       "</div>"
      ],
      "text/plain": [
       "                                    filename checker              description  \\\n",
       "0                    qiskit_runner_a05ff0.py     IIS  Incorrect initial state   \n",
       "1                 01_operator_flow_87f6ae.py     IIS  Incorrect initial state   \n",
       "2                          graders_f3ed23.py     IIS  Incorrect initial state   \n",
       "3  challenge4_circuitdecomposition_6c33bd.py     IIS  Incorrect initial state   \n",
       "4                      run_circuit_3a72ed.py     IIS  Incorrect initial state   \n",
       "\n",
       "   line                                            message  error  \\\n",
       "0   NaN  Error analyzing file: local variable 'value' r...   True   \n",
       "1   NaN  Error analyzing file: local variable 'value' r...   True   \n",
       "2   NaN                             No warnings to report.  False   \n",
       "3   NaN                             No warnings to report.  False   \n",
       "4   NaN                             No warnings to report.  False   \n",
       "\n",
       "       error_type  \n",
       "0  analysis_error  \n",
       "1  analysis_error  \n",
       "2             NaN  \n",
       "3             NaN  \n",
       "4             NaN  "
      ]
     },
     "execution_count": 16,
     "metadata": {},
     "output_type": "execute_result"
    }
   ],
   "source": [
    "import glob\n",
    "all_csv_files = glob.glob(os.path.join(DIR_OUTPUT, '*.csv'))\n",
    "print(all_csv_files)\n",
    "# read all in the same pandas dataframe\n",
    "df = pd.concat([pd.read_csv(f) for f in all_csv_files])\n",
    "df.head()"
   ]
  },
  {
   "cell_type": "code",
   "execution_count": 17,
   "metadata": {},
   "outputs": [],
   "source": [
    "# fill nan with empty string\n",
    "# df = df.fillna('')"
   ]
  },
  {
   "cell_type": "code",
   "execution_count": 18,
   "metadata": {},
   "outputs": [
    {
     "data": {
      "text/plain": [
       "<AxesSubplot: xlabel='count', ylabel='checker'>"
      ]
     },
     "execution_count": 18,
     "metadata": {},
     "output_type": "execute_result"
    },
    {
     "data": {
      "image/png": "[encoded data removed]",
      "text/plain": [
       "<Figure size 640x480 with 1 Axes>"
      ]
     },
     "metadata": {},
     "output_type": "display_data"
    }
   ],
   "source": [
    "sns.countplot(\n",
    "    data=df,\n",
    "    y='checker',\n",
    "    hue='error_type',\n",
    ")\n"
   ]
  },
  {
   "cell_type": "code",
   "execution_count": 27,
   "metadata": {},
   "outputs": [
    {
     "name": "stdout",
     "output_type": "stream",
     "text": [
      "Number of files analyzed: 7568\n",
      "Number of files leading to analysis error: 4115\n",
      "Percentage of files leading to analysis error: 54.37%\n"
     ]
    }
   ],
   "source": [
    "# count the unique files for which we have an analysis over the total number of files\n",
    "n_all_files = len(df['filename'].unique())\n",
    "print(f'Number of files analyzed: {n_all_files}')\n",
    "\n",
    "n_files_leading_to_analysis_error = len(df[\n",
    "    df['error_type'] == 'analysis_error']['filename'].unique())\n",
    "print(f'Number of files leading to analysis error: {n_files_leading_to_analysis_error}')\n",
    "\n",
    "perc_analysis_error = n_files_leading_to_analysis_error / n_all_files * 100\n",
    "print(f'Percentage of files leading to analysis error: {perc_analysis_error:.2f}%')\n"
   ]
  },
  {
   "cell_type": "code",
   "execution_count": 21,
   "metadata": {},
   "outputs": [
    {
     "data": {
      "text/html": [
       "<div>\n",
       "<style scoped>\n",
       "    .dataframe tbody tr th:only-of-type {\n",
       "        vertical-align: middle;\n",
       "    }\n",
       "\n",
       "    .dataframe tbody tr th {\n",
       "        vertical-align: top;\n",
       "    }\n",
       "\n",
       "    .dataframe thead th {\n",
       "        text-align: right;\n",
       "    }\n",
       "</style>\n",
       "<table border=\"1\" class=\"dataframe\">\n",
       "  <thead>\n",
       "    <tr style=\"text-align: right;\">\n",
       "      <th></th>\n",
       "      <th>filename</th>\n",
       "      <th>checker</th>\n",
       "      <th>description</th>\n",
       "      <th>line</th>\n",
       "      <th>message</th>\n",
       "      <th>error</th>\n",
       "      <th>error_type</th>\n",
       "    </tr>\n",
       "  </thead>\n",
       "  <tbody>\n",
       "    <tr>\n",
       "      <th>8</th>\n",
       "      <td>circuit_basics_49646b.py</td>\n",
       "      <td>IIS</td>\n",
       "      <td>Incorrect initial state</td>\n",
       "      <td>50.0</td>\n",
       "      <td>meas.measure(range(3), range(3))</td>\n",
       "      <td>False</td>\n",
       "      <td>NaN</td>\n",
       "    </tr>\n",
       "    <tr>\n",
       "      <th>9</th>\n",
       "      <td>final5_oracle_test_mymap_61e2ed.py</td>\n",
       "      <td>IIS</td>\n",
       "      <td>Incorrect initial state</td>\n",
       "      <td>106.0</td>\n",
       "      <td>circ.measure(oracle_q, oracle_c)</td>\n",
       "      <td>False</td>\n",
       "      <td>NaN</td>\n",
       "    </tr>\n",
       "    <tr>\n",
       "      <th>15</th>\n",
       "      <td>bb84_8e22cc.py</td>\n",
       "      <td>IIS</td>\n",
       "      <td>Incorrect initial state</td>\n",
       "      <td>82.0</td>\n",
       "      <td>bob_results = measure_message(message, bob...</td>\n",
       "      <td>False</td>\n",
       "      <td>NaN</td>\n",
       "    </tr>\n",
       "    <tr>\n",
       "      <th>26</th>\n",
       "      <td>two_register_8d4cad.py</td>\n",
       "      <td>IIS</td>\n",
       "      <td>Incorrect initial state</td>\n",
       "      <td>27.0</td>\n",
       "      <td>meas.measure(qreg0, creg0)</td>\n",
       "      <td>False</td>\n",
       "      <td>NaN</td>\n",
       "    </tr>\n",
       "    <tr>\n",
       "      <th>29</th>\n",
       "      <td>e91_20_20demo_390e5b.py</td>\n",
       "      <td>IIS</td>\n",
       "      <td>Incorrect initial state</td>\n",
       "      <td>112.0</td>\n",
       "      <td>circuit.measure(q, b)</td>\n",
       "      <td>False</td>\n",
       "      <td>NaN</td>\n",
       "    </tr>\n",
       "  </tbody>\n",
       "</table>\n",
       "</div>"
      ],
      "text/plain": [
       "                              filename checker              description  \\\n",
       "8             circuit_basics_49646b.py     IIS  Incorrect initial state   \n",
       "9   final5_oracle_test_mymap_61e2ed.py     IIS  Incorrect initial state   \n",
       "15                      bb84_8e22cc.py     IIS  Incorrect initial state   \n",
       "26              two_register_8d4cad.py     IIS  Incorrect initial state   \n",
       "29             e91_20_20demo_390e5b.py     IIS  Incorrect initial state   \n",
       "\n",
       "     line                                            message  error error_type  \n",
       "8    50.0                   meas.measure(range(3), range(3))  False        NaN  \n",
       "9   106.0                   circ.measure(oracle_q, oracle_c)  False        NaN  \n",
       "15   82.0      bob_results = measure_message(message, bob...  False        NaN  \n",
       "26   27.0                         meas.measure(qreg0, creg0)  False        NaN  \n",
       "29  112.0                              circuit.measure(q, b)  False        NaN  "
      ]
     },
     "execution_count": 21,
     "metadata": {},
     "output_type": "execute_result"
    }
   ],
   "source": [
    "df_warnings = df[\n",
    "    (df['error'] == False) & \n",
    "    (df['message'] != 'No warnings to report.')  \n",
    "]\n",
    "df_warnings.head()"
   ]
  },
  {
   "cell_type": "code",
   "execution_count": 25,
   "metadata": {},
   "outputs": [
    {
     "data": {
      "text/plain": [
       "Text(0.5, 0, 'Number of warnings')"
      ]
     },
     "execution_count": 25,
     "metadata": {},
     "output_type": "execute_result"
    },
    {
     "data": {
      "image/png": "[encoded data removed]",
      "text/plain": [
       "<Figure size 500x200 with 1 Axes>"
      ]
     },
     "metadata": {},
     "output_type": "display_data"
    }
   ],
   "source": [
    "fig, ax = plt.subplots(figsize=(5, 2))\n",
    "sns.countplot(\n",
    "    data=df_warnings,\n",
    "    y='checker',\n",
    ")\n",
    "ax.set_xlabel('Number of warnings')\n"
   ]
  },
  {
   "cell_type": "code",
   "execution_count": null,
   "metadata": {},
   "outputs": [],
   "source": []
  }
 ],
 "metadata": {
  "kernelspec": {
   "display_name": "venv38",
   "language": "python",
   "name": "python3"
  },
  "language_info": {
   "codemirror_mode": {
    "name": "ipython",
    "version": 3
   },
   "file_extension": ".py",
   "mimetype": "text/x-python",
   "name": "python",
   "nbconvert_exporter": "python",
   "pygments_lexer": "ipython3",
   "version": "3.8.0"
  },
  "orig_nbformat": 4
 },
 "nbformat": 4,
 "nbformat_minor": 2
}
