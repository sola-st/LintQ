{
 "cells": [
  {
   "attachments": {},
   "cell_type": "markdown",
   "metadata": {},
   "source": [
    "**Goal**: test the simple programs to be used in the test suite.\n",
    "\n",
    "# CodeQL Test WorkBench"
   ]
  },
  {
   "cell_type": "code",
   "execution_count": 1,
   "metadata": {},
   "outputs": [],
   "source": [
    "import project_path\n",
    "from rdlib import *  # this imports the base libraries"
   ]
  },
  {
   "cell_type": "code",
   "execution_count": 14,
   "metadata": {},
   "outputs": [
    {
     "data": {
      "text/html": [
       "<pre style=\"word-wrap: normal;white-space: pre;background: #fff0;line-height: 1.1;font-family: &quot;Courier New&quot;,Courier,monospace\">       ┌───┐┌───┐\n",
       "q25_0: ┤ Z ├┤ H ├\n",
       "       └───┘└───┘\n",
       "q25_1: ──────────\n",
       "                 \n",
       "q25_2: ──────────\n",
       "                 \n",
       "c25_0: ══════════\n",
       "                 \n",
       "c25_1: ══════════\n",
       "                 \n",
       "c25_2: ══════════\n",
       "                 </pre>"
      ],
      "text/plain": [
       "       ┌───┐┌───┐\n",
       "q25_0: ┤ Z ├┤ H ├\n",
       "       └───┘└───┘\n",
       "q25_1: ──────────\n",
       "                 \n",
       "q25_2: ──────────\n",
       "                 \n",
       "c25_0: ══════════\n",
       "                 \n",
       "c25_1: ══════════\n",
       "                 \n",
       "c25_2: ══════════\n",
       "                 "
      ]
     },
     "execution_count": 14,
     "metadata": {},
     "output_type": "execute_result"
    }
   ],
   "source": [
    "from qiskit import QuantumCircuit, QuantumRegister, ClassicalRegister\n",
    "\n",
    "# create the subcircuit\n",
    "qreg = QuantumRegister(3)\n",
    "creg = ClassicalRegister(3)\n",
    "qc_subcircuit = QuantumCircuit(qreg, creg)\n",
    "qc_subcircuit.h(0)\n",
    "\n",
    "# create the main circuit\n",
    "q = QuantumRegister(3)\n",
    "c = ClassicalRegister(3)\n",
    "qc_macro = QuantumCircuit()\n",
    "qc_macro.add_register(q)\n",
    "qc_macro.add_register(c)\n",
    "qc_macro.z(0)\n",
    "\n",
    "# compose the two with the compose method\n",
    "qc_macro.compose(qc_subcircuit, qubits=q, clbits=c, inplace=True)\n",
    "qc_macro.compose(qc_macro, qubits=q, clbits=c)\n",
    "qc_macro.draw()\n"
   ]
  },
  {
   "cell_type": "code",
   "execution_count": 18,
   "metadata": {},
   "outputs": [
    {
     "ename": "CircuitError",
     "evalue": "\"Trying to compose with another QuantumCircuit which has more 'in' edges.\"",
     "output_type": "error",
     "traceback": [
      "\u001b[0;31m---------------------------------------------------------------------------\u001b[0m",
      "\u001b[0;31mCircuitError\u001b[0m                              Traceback (most recent call last)",
      "Cell \u001b[0;32mIn [18], line 7\u001b[0m\n\u001b[1;32m      5\u001b[0m qc_macro \u001b[39m=\u001b[39m QuantumCircuit(\u001b[39m4\u001b[39m, \u001b[39m4\u001b[39m)\n\u001b[1;32m      6\u001b[0m qc_macro\u001b[39m.\u001b[39mz(\u001b[39m2\u001b[39m)\n\u001b[0;32m----> 7\u001b[0m qc_macro\u001b[39m.\u001b[39mcompose(qc_subcircuit, inplace\u001b[39m=\u001b[39m\u001b[39mTrue\u001b[39;00m)\n\u001b[1;32m      8\u001b[0m qc_macro\u001b[39m.\u001b[39mdraw()\n",
      "File \u001b[0;32m~/projects/qlint/venv38/lib/python3.8/site-packages/qiskit/circuit/quantumcircuit.py:931\u001b[0m, in \u001b[0;36mQuantumCircuit.compose\u001b[0;34m(self, other, qubits, clbits, front, inplace, wrap)\u001b[0m\n\u001b[1;32m    928\u001b[0m instrs \u001b[39m=\u001b[39m other\u001b[39m.\u001b[39mdata\n\u001b[1;32m    930\u001b[0m \u001b[39mif\u001b[39;00m other\u001b[39m.\u001b[39mnum_qubits \u001b[39m>\u001b[39m dest\u001b[39m.\u001b[39mnum_qubits \u001b[39mor\u001b[39;00m other\u001b[39m.\u001b[39mnum_clbits \u001b[39m>\u001b[39m dest\u001b[39m.\u001b[39mnum_clbits:\n\u001b[0;32m--> 931\u001b[0m     \u001b[39mraise\u001b[39;00m CircuitError(\n\u001b[1;32m    932\u001b[0m         \u001b[39m\"\u001b[39m\u001b[39mTrying to compose with another QuantumCircuit which has more \u001b[39m\u001b[39m'\u001b[39m\u001b[39min\u001b[39m\u001b[39m'\u001b[39m\u001b[39m edges.\u001b[39m\u001b[39m\"\u001b[39m\n\u001b[1;32m    933\u001b[0m     )\n\u001b[1;32m    935\u001b[0m \u001b[39m# number of qubits and clbits must match number in circuit or None\u001b[39;00m\n\u001b[1;32m    936\u001b[0m identity_qubit_map \u001b[39m=\u001b[39m \u001b[39mdict\u001b[39m(\u001b[39mzip\u001b[39m(other\u001b[39m.\u001b[39mqubits, dest\u001b[39m.\u001b[39mqubits))\n",
      "\u001b[0;31mCircuitError\u001b[0m: \"Trying to compose with another QuantumCircuit which has more 'in' edges.\""
     ]
    }
   ],
   "source": [
    "from qiskit import QuantumCircuit, QuantumRegister, ClassicalRegister\n",
    "\n",
    "qc_subcircuit = QuantumCircuit(5, 5)\n",
    "qc_subcircuit.h(0)\n",
    "qc_macro = QuantumCircuit(4, 4)\n",
    "qc_macro.z(2)\n",
    "qc_macro.compose(qc_subcircuit, inplace=True)\n",
    "qc_macro.draw()\n"
   ]
  },
  {
   "cell_type": "code",
   "execution_count": 21,
   "metadata": {},
   "outputs": [
    {
     "name": "stdout",
     "output_type": "stream",
     "text": [
      "1\n"
     ]
    }
   ],
   "source": [
    "from qiskit import QuantumCircuit, QuantumRegister, ClassicalRegister\n",
    "qc_subcircuit = QuantumCircuit(3, 3)\n",
    "qc_subcircuit.h(0)  # first added gate\n",
    "qc_macro = QuantumCircuit(4, 4)\n",
    "qc_macro.z(2)  # second added gate\n",
    "qc_macro.compose(qc_subcircuit)  # ghost addition\n",
    "n_gates = len(qc_macro.data)\n",
    "print(n_gates)  # returns 1 instead of 2"
   ]
  },
  {
   "attachments": {},
   "cell_type": "markdown",
   "metadata": {},
   "source": [
    "## True Positives"
   ]
  },
  {
   "cell_type": "code",
   "execution_count": 1,
   "metadata": {},
   "outputs": [],
   "source": [
    "# data/datasets/exp_v06/codeql/src.zip/home/paltenmo/projects/qlint/data/datasets/exp_v06/files_selected/test_mc_gate_13ba80.py\n",
    "def test_linear_toffoli0(self):\n",
    "    \"\"\" Testing Toffoli control 000\"\"\"\n",
    "    gate_x = np.array([[0, 1], [1, 0]])\n",
    "    circuit2 = qiskit.QuantumCircuit(4)\n",
    "    state1 = qclib.util.get_state(circuit2)\n",
    "    circuit = qiskit.QuantumCircuit(4)\n",
    "    mc_gate(gate_x, circuit, [1, 2, 3], 0)\n",
    "    circuit.compose(circuit2, circuit.qubits)\n",
    "    state2 = qclib.util.get_state(circuit)\n",
    "    self.assertTrue(np.allclose(state1, state2))\n",
    "\n",
    "def test_linear_toffoli2(self):\n",
    "    \"\"\" Testing Toffoli control 110\"\"\"\n",
    "    gate_x = np.array([[0, 1], [1, 0]])\n",
    "\n",
    "    circuit2 = qiskit.QuantumCircuit(4)\n",
    "    circuit2.x(2)\n",
    "    circuit2.x(3)\n",
    "    circuit2.x(0)\n",
    "    state1 = qclib.util.get_state(circuit2)\n",
    "\n",
    "    circuit = qiskit.QuantumCircuit(4)\n",
    "    mc_gate(gate_x, circuit, [3, 2, 1], 0)\n",
    "\n",
    "    circuit2.compose(circuit, circuit2.qubits)\n",
    "    state2 = qclib.util.get_state(circuit2)\n",
    "\n",
    "    self.assertTrue(np.allclose(state1, state2))"
   ]
  },
  {
   "cell_type": "code",
   "execution_count": null,
   "metadata": {},
   "outputs": [],
   "source": []
  },
  {
   "cell_type": "code",
   "execution_count": null,
   "metadata": {},
   "outputs": [],
   "source": []
  }
 ],
 "metadata": {
  "kernelspec": {
   "display_name": "Python 3.8.0 ('venv38': venv)",
   "language": "python",
   "name": "python3"
  },
  "language_info": {
   "codemirror_mode": {
    "name": "ipython",
    "version": 3
   },
   "file_extension": ".py",
   "mimetype": "text/x-python",
   "name": "python",
   "nbconvert_exporter": "python",
   "pygments_lexer": "ipython3",
   "version": "3.8.0"
  },
  "orig_nbformat": 4,
  "vscode": {
   "interpreter": {
    "hash": "cb1ad55548147a34c44e49321d0d34eedf7bd25fa9805bca1aa59a464f366bf8"
   }
  }
 },
 "nbformat": 4,
 "nbformat_minor": 2
}
