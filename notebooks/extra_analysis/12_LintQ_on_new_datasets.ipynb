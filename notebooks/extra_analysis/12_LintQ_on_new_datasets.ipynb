{
 "cells": [
  {
   "attachments": {},
   "cell_type": "markdown",
   "metadata": {},
   "source": [
    "**Goal**: run LintQ on new dataset where we can compute the recall of the method."
   ]
  },
  {
   "cell_type": "code",
   "execution_count": 2,
   "metadata": {},
   "outputs": [],
   "source": [
    "import project_path\n",
    "from rdlib import *  # this imports the base libraries"
   ]
  },
  {
   "cell_type": "code",
   "execution_count": 21,
   "metadata": {},
   "outputs": [],
   "source": [
    "PATH_WARNINGS_SARIF = '../data/analysis_results/QuantumBugs100_app_2023-06-12/codeql_2023-06-12_12-10-25/data.sarif'\n",
    "PATH_WARNINGS_CSV_NEW = PATH_WARNINGS_SARIF.replace(\".sarif\", \".csv\")\n",
    "\n",
    "BUG_METADATA_PATH = '../data/datasets/QuantumBugs100/dataset_summary.csv'\n",
    "\n",
    "RELEVANT_DETECTORS = {\n",
    "    'ql-double-measurement': 'DoubleMeas',\n",
    "    'ql-operation-after-measurement': 'OpAfterMeas',\n",
    "    'ql-measure-all-abuse': 'MeasAllAbuse',\n",
    "    'ql-incompatible-composition': 'IncompCompose',\n",
    "    'ql-ungoverned-composition': 'UngovCompose',\n",
    "    'ql-ghost-composition': 'GhostCompose',\n",
    "    'ql-unmeasurable-qubits': 'InsuffClasReg',\n",
    "    'ql-oversized-circuit': 'OversizedCircuit',\n",
    "    'ql-op-after-optimization': 'OpAfterTransp',\n",
    "}"
   ]
  },
  {
   "cell_type": "code",
   "execution_count": 8,
   "metadata": {},
   "outputs": [
    {
     "name": "stdout",
     "output_type": "stream",
     "text": [
      "File already exists:  ../data/analysis_results/QuantumBugs100_app_2023-06-12/codeql_2023-06-12_12-10-25/data.csv\n"
     ]
    }
   ],
   "source": [
    "# CREATE THE CSV VERSION OF THE FILE WITH WARNINGS\n",
    "# if the PATH_WARNINGS_CSV_NEW does not exist, create it\n",
    "if not os.path.exists(PATH_WARNINGS_CSV_NEW):\n",
    "    ! sarif csv --output {PATH_WARNINGS_CSV_NEW} {PATH_WARNINGS_SARIF}\n",
    "else:\n",
    "    print(\"File already exists: \", PATH_WARNINGS_CSV_NEW)\n",
    "\n",
    "\n",
    "# LOAD WARNINGS CONVERTED IN JSON FORMAT\n",
    "df_warnings = pd.read_csv(PATH_WARNINGS_CSV_NEW)\n",
    "df_warnings['rule'] = df_warnings['Code'].apply(lambda e: e.split(\" \")[0])\n",
    "df_warnings['unique_id'] = df_warnings['Location'].apply(lambda e: e.split(\".\")[0])\n",
    "\n",
    "# KEEP ONLY RELEVANT DETECTORS\n",
    "df_warnings = df_warnings[df_warnings['rule'].isin(RELEVANT_DETECTORS.keys())]"
   ]
  },
  {
   "cell_type": "code",
   "execution_count": 24,
   "metadata": {},
   "outputs": [
    {
     "name": "stdout",
     "output_type": "stream",
     "text": [
      "Number of bugs from Bugs4Q:  42\n"
     ]
    }
   ],
   "source": [
    "df_metadata = pd.read_csv(BUG_METADATA_PATH)\n",
    "id_from_bugs4q = df_metadata[df_metadata['sampling_method'] == 'Bugs4Q-112021']['id'].values\n",
    "n_bugs_from_bugs4q = len(id_from_bugs4q)\n",
    "print(\"Number of bugs from Bugs4Q: \", n_bugs_from_bugs4q)"
   ]
  },
  {
   "cell_type": "code",
   "execution_count": 9,
   "metadata": {},
   "outputs": [
    {
     "data": {
      "text/html": [
       "<div>\n",
       "<style scoped>\n",
       "    .dataframe tbody tr th:only-of-type {\n",
       "        vertical-align: middle;\n",
       "    }\n",
       "\n",
       "    .dataframe tbody tr th {\n",
       "        vertical-align: top;\n",
       "    }\n",
       "\n",
       "    .dataframe thead th {\n",
       "        text-align: right;\n",
       "    }\n",
       "</style>\n",
       "<table border=\"1\" class=\"dataframe\">\n",
       "  <thead>\n",
       "    <tr style=\"text-align: right;\">\n",
       "      <th></th>\n",
       "      <th>Tool</th>\n",
       "      <th>Severity</th>\n",
       "      <th>Code</th>\n",
       "      <th>Location</th>\n",
       "      <th>Line</th>\n",
       "      <th>rule</th>\n",
       "      <th>unique_id</th>\n",
       "    </tr>\n",
       "  </thead>\n",
       "  <tbody>\n",
       "    <tr>\n",
       "      <th>0</th>\n",
       "      <td>CodeQL</td>\n",
       "      <td>warning</td>\n",
       "      <td>ql-ghost-composition Ghost composition at loca...</td>\n",
       "      <td>STE-31508_buggy.py</td>\n",
       "      <td>8</td>\n",
       "      <td>ql-ghost-composition</td>\n",
       "      <td>STE-31508_buggy</td>\n",
       "    </tr>\n",
       "    <tr>\n",
       "      <th>1</th>\n",
       "      <td>CodeQL</td>\n",
       "      <td>warning</td>\n",
       "      <td>ql-measure-all-abuse measure_all() on the circ...</td>\n",
       "      <td>STE-20750_buggy.py</td>\n",
       "      <td>5</td>\n",
       "      <td>ql-measure-all-abuse</td>\n",
       "      <td>STE-20750_buggy</td>\n",
       "    </tr>\n",
       "    <tr>\n",
       "      <th>2</th>\n",
       "      <td>CodeQL</td>\n",
       "      <td>warning</td>\n",
       "      <td>ql-measure-all-abuse measure_all() on the circ...</td>\n",
       "      <td>TER-6571_buggy.py</td>\n",
       "      <td>8</td>\n",
       "      <td>ql-measure-all-abuse</td>\n",
       "      <td>TER-6571_buggy</td>\n",
       "    </tr>\n",
       "    <tr>\n",
       "      <th>3</th>\n",
       "      <td>CodeQL</td>\n",
       "      <td>warning</td>\n",
       "      <td>ql-operation-after-measurement Operation 'cx' ...</td>\n",
       "      <td>STO-60918011_buggy.py</td>\n",
       "      <td>19</td>\n",
       "      <td>ql-operation-after-measurement</td>\n",
       "      <td>STO-60918011_buggy</td>\n",
       "    </tr>\n",
       "    <tr>\n",
       "      <th>4</th>\n",
       "      <td>CodeQL</td>\n",
       "      <td>warning</td>\n",
       "      <td>ql-operation-after-measurement Operation 'cz' ...</td>\n",
       "      <td>STO-60918011_buggy.py</td>\n",
       "      <td>20</td>\n",
       "      <td>ql-operation-after-measurement</td>\n",
       "      <td>STO-60918011_buggy</td>\n",
       "    </tr>\n",
       "  </tbody>\n",
       "</table>\n",
       "</div>"
      ],
      "text/plain": [
       "     Tool Severity                                               Code  \\\n",
       "0  CodeQL  warning  ql-ghost-composition Ghost composition at loca...   \n",
       "1  CodeQL  warning  ql-measure-all-abuse measure_all() on the circ...   \n",
       "2  CodeQL  warning  ql-measure-all-abuse measure_all() on the circ...   \n",
       "3  CodeQL  warning  ql-operation-after-measurement Operation 'cx' ...   \n",
       "4  CodeQL  warning  ql-operation-after-measurement Operation 'cz' ...   \n",
       "\n",
       "                Location  Line                            rule  \\\n",
       "0     STE-31508_buggy.py     8            ql-ghost-composition   \n",
       "1     STE-20750_buggy.py     5            ql-measure-all-abuse   \n",
       "2      TER-6571_buggy.py     8            ql-measure-all-abuse   \n",
       "3  STO-60918011_buggy.py    19  ql-operation-after-measurement   \n",
       "4  STO-60918011_buggy.py    20  ql-operation-after-measurement   \n",
       "\n",
       "            unique_id  \n",
       "0     STE-31508_buggy  \n",
       "1     STE-20750_buggy  \n",
       "2      TER-6571_buggy  \n",
       "3  STO-60918011_buggy  \n",
       "4  STO-60918011_buggy  "
      ]
     },
     "execution_count": 9,
     "metadata": {},
     "output_type": "execute_result"
    }
   ],
   "source": [
    "df_warnings.head()"
   ]
  },
  {
   "cell_type": "code",
   "execution_count": 27,
   "metadata": {},
   "outputs": [],
   "source": [
    "# add column for provenance, i.e., the dataset from which the bug comes from\n",
    "df_warnings['simple_id'] = df_warnings['unique_id'].apply(lambda e: e.replace(\"_buggy\", \"\"))\n",
    "df_warnings['provenance'] = df_warnings['simple_id'].apply(lambda e: 'Bugs4Q' if e in id_from_bugs4q else 'New')"
   ]
  },
  {
   "cell_type": "code",
   "execution_count": 28,
   "metadata": {},
   "outputs": [
    {
     "data": {
      "text/plain": [
       "Text(0.5, 1.0, 'New Dataset 48 Bugs (ex Bugs4Q)')"
      ]
     },
     "execution_count": 28,
     "metadata": {},
     "output_type": "execute_result"
    },
    {
     "data": {
      "image/png": "[encoded data removed]",
      "text/plain": [
       "<Figure size 500x200 with 1 Axes>"
      ]
     },
     "metadata": {},
     "output_type": "display_data"
    }
   ],
   "source": [
    "from matplotlib.patches import Patch\n",
    "\n",
    "fig, ax = plt.subplots(figsize=(5, 2))\n",
    "df = df_warnings.copy()\n",
    "# rename the rules with the short names\n",
    "df['rule'] = df['rule'].apply(lambda e: RELEVANT_DETECTORS[e])\n",
    "sns.countplot(\n",
    "    data=df,\n",
    "    y='rule',\n",
    "    order=df['rule'].value_counts().index,\n",
    "    hue='provenance',\n",
    "    ax=ax\n",
    ")\n",
    "ax.set_xlabel(\"Number of warnings\")\n",
    "ax.set_ylabel(\"LintQ Detector\")\n",
    "ax.set_title(\"New Dataset 48 Bugs (ex Bugs4Q)\")"
   ]
  },
  {
   "cell_type": "code",
   "execution_count": 22,
   "metadata": {},
   "outputs": [
    {
     "name": "stdout",
     "output_type": "stream",
     "text": [
      "Number of bugs from Bugs4Q:  42\n"
     ]
    }
   ],
   "source": []
  },
  {
   "cell_type": "code",
   "execution_count": null,
   "metadata": {},
   "outputs": [],
   "source": []
  }
 ],
 "metadata": {
  "kernelspec": {
   "display_name": "venv38",
   "language": "python",
   "name": "python3"
  },
  "language_info": {
   "codemirror_mode": {
    "name": "ipython",
    "version": 3
   },
   "file_extension": ".py",
   "mimetype": "text/x-python",
   "name": "python",
   "nbconvert_exporter": "python",
   "pygments_lexer": "ipython3",
   "version": "3.8.0"
  },
  "orig_nbformat": 4
 },
 "nbformat": 4,
 "nbformat_minor": 2
}
