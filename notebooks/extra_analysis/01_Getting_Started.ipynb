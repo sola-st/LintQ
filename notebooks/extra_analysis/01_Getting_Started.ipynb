{
 "cells": [
  {
   "cell_type": "markdown",
   "metadata": {},
   "source": [
    "**Goal**: This notebook is a stub for a new notebook. each notebook should have a goal, which is a short description of what the notebook is about.\n",
    "\n",
    "# Title (aka short version of the goal)"
   ]
  },
  {
   "cell_type": "code",
   "execution_count": 5,
   "metadata": {},
   "outputs": [],
   "source": [
    "import project_path\n",
    "from rdlib import *  # this imports the base libraries"
   ]
  }
 ],
 "metadata": {
  "kernelspec": {
   "display_name": "Python 3.8.0 ('venv38': venv)",
   "language": "python",
   "name": "python3"
  },
  "language_info": {
   "codemirror_mode": {
    "name": "ipython",
    "version": 3
   },
   "file_extension": ".py",
   "mimetype": "text/x-python",
   "name": "python",
   "nbconvert_exporter": "python",
   "pygments_lexer": "ipython3",
   "version": "3.8.0"
  },
  "orig_nbformat": 4,
  "vscode": {
   "interpreter": {
    "hash": "cb1ad55548147a34c44e49321d0d34eedf7bd25fa9805bca1aa59a464f366bf8"
   }
  }
 },
 "nbformat": 4,
 "nbformat_minor": 2
}
